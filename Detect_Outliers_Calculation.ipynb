{
  "nbformat": 4,
  "nbformat_minor": 0,
  "metadata": {
    "colab": {
      "provenance": [],
      "include_colab_link": true
    },
    "kernelspec": {
      "name": "python3",
      "display_name": "Python 3"
    },
    "language_info": {
      "name": "python"
    }
  },
  "cells": [
    {
      "cell_type": "markdown",
      "metadata": {
        "id": "view-in-github",
        "colab_type": "text"
      },
      "source": [
        "<a href=\"https://colab.research.google.com/github/Yasser282/python-Y/blob/main/Detect_Outliers_Calculation.ipynb\" target=\"_parent\"><img src=\"https://colab.research.google.com/assets/colab-badge.svg\" alt=\"Open In Colab\"/></a>"
      ]
    },
    {
      "cell_type": "code",
      "execution_count": null,
      "metadata": {
        "colab": {
          "base_uri": "https://localhost:8080/"
        },
        "id": "xqkyIemES1Sk",
        "outputId": "2ebebd58-1bde-4f9b-a17a-2b8fccc00f62"
      },
      "outputs": [
        {
          "output_type": "stream",
          "name": "stdout",
          "text": [
            "(array([  20,   87,   91,   94,   95,  151,  208,  212,  273,  283,  303,\n",
            "        309,  310,  316,  323,  326,  331,  336,  406,  407,  502,  505,\n",
            "        516,  521,  533,  589,  590,  592,  602,  648,  649,  650,  682,\n",
            "        709,  806,  807,  846,  855,  860,  892,  917,  944,  951,  959,\n",
            "        961,  969,  972,  974,  977,  985,  994, 1002]),)\n",
            "       ID  No_Pation Gender   AGE  Urea    Cr  HbA1c  Chol   TG  HDL  LDL  \\\n",
            "0     502      17975      F  50.0   4.7  46.0    4.9   4.2  0.9  2.4  1.4   \n",
            "1     735      34221      M  26.0   4.5  62.0    4.9   3.7  1.4  1.1  2.1   \n",
            "2     420      47975      F  50.0   4.7  46.0    4.9   4.2  0.9  2.4  1.4   \n",
            "3     680      87656      F  50.0   4.7  46.0    4.9   4.2  0.9  2.4  1.4   \n",
            "4     504      34223      M  33.0   7.1  46.0    4.9   4.9  1.0  0.8  2.0   \n",
            "...   ...        ...    ...   ...   ...   ...    ...   ...  ...  ...  ...   \n",
            "1004  191     454316      M  55.0   NaN  62.0    6.8   5.3  2.0  1.0  3.5   \n",
            "1005  192     454316      M  55.0   4.8  88.0    NaN   5.7  4.0  0.9  3.3   \n",
            "1006  193     454316      M  62.0   6.3  82.0    6.7   5.3  2.0  1.0  3.5   \n",
            "1007  194     454316      F  57.0   4.1  70.0    9.3   5.3  3.3  1.0  1.4   \n",
            "1008  195       4543      f  55.0   4.1  34.0   13.9   5.4  1.6  1.6  3.1   \n",
            "\n",
            "      VLDL   BMI CLASS  \n",
            "0      0.5  24.0     N  \n",
            "1      0.6  23.0     N  \n",
            "2      0.5  24.0     N  \n",
            "3      0.5  24.0     N  \n",
            "4      0.4  21.0     N  \n",
            "...    ...   ...   ...  \n",
            "1004   0.9  30.1    Y   \n",
            "1005   1.8  30.0    Y   \n",
            "1006   NaN  30.1    Y   \n",
            "1007   1.3  29.0    Y   \n",
            "1008   0.7  33.0    Y   \n",
            "\n",
            "[956 rows x 14 columns]\n",
            "(array([  20,   87,   91,   94,   95,  151,  208,  212,  273,  283,  303,\n",
            "        309,  310,  316,  323,  326,  331,  336,  406,  407,  502,  505,\n",
            "        516,  521,  533,  589,  590,  592,  602,  648,  649,  650,  682,\n",
            "        709,  806,  807,  846,  855,  860,  892,  917,  944,  951,  959,\n",
            "        961,  969,  972,  974,  977,  985,  994, 1002]),) (array([69]),) 48.0 73.0 25.0 110.5 10.5\n"
          ]
        }
      ],
      "source": [
        "import pandas as pd\n",
        "import numpy as np\n",
        "#read the data\n",
        "df = pd.read_csv('https://raw.githubusercontent.com/DSomair/Masar_DS/main/Datasets/Week2/diabetes_unclean.csv')\n",
        "# IQR\n",
        "Q1 = np.nanpercentile(df['Cr'], 25,\n",
        "                interpolation = 'midpoint')\n",
        "\n",
        "Q3 = np.nanpercentile(df['Cr'], 75,\n",
        "                interpolation = 'midpoint')\n",
        "IQR = Q3 - Q1\n",
        "\n",
        "# print(\"Old Shape: \", df.shape)\n",
        "\n",
        "# Upper bound\n",
        "upper_value=Q3+1.5*IQR\n",
        "upper = np.where(df['Cr'] >= upper_value)\n",
        "\n",
        "# Lower bound\n",
        "lower_value=Q1-1.5*IQR\n",
        "lower = np.where(df['Cr'] <= lower_value)\n",
        "\n",
        "# Removing the Outliers\n",
        "print(upper)\n",
        "df.drop(upper[0], inplace = True)\n",
        "df.drop(lower[0], inplace = True)\n",
        "print(df)\n",
        "print(upper,lower,Q1,Q3,IQR,upper_value,lower_value)"
      ]
    }
  ]
}