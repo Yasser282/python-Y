{
  "nbformat": 4,
  "nbformat_minor": 0,
  "metadata": {
    "colab": {
      "provenance": [],
      "include_colab_link": true
    },
    "kernelspec": {
      "name": "python3",
      "display_name": "Python 3"
    },
    "language_info": {
      "name": "python"
    }
  },
  "cells": [
    {
      "cell_type": "markdown",
      "metadata": {
        "id": "view-in-github",
        "colab_type": "text"
      },
      "source": [
        "<a href=\"https://colab.research.google.com/github/Yasser282/python-Y/blob/main/Intro_to_Pandas.ipynb\" target=\"_parent\"><img src=\"https://colab.research.google.com/assets/colab-badge.svg\" alt=\"Open In Colab\"/></a>"
      ]
    },
    {
      "cell_type": "code",
      "execution_count": null,
      "metadata": {
        "colab": {
          "base_uri": "https://localhost:8080/"
        },
        "id": "oyMDk6KMN_uq",
        "outputId": "2ccac60e-7d2d-4ca8-9cf4-0a2fe403325d"
      },
      "outputs": [
        {
          "output_type": "stream",
          "name": "stdout",
          "text": [
            "[1, 7, 2]\n",
            "0    1\n",
            "1    7\n",
            "2    2\n",
            "dtype: int64\n",
            "{'calories': [420, 380, 390], 'duration': [50, 40, 45]}\n",
            "   calories  duration\n",
            "0       420        50\n",
            "1       380        40\n",
            "2       390        45\n",
            "calories    390.0\n",
            "duration     45.0\n",
            "dtype: float64\n"
          ]
        }
      ],
      "source": [
        "import pandas as pd\n",
        "a = [1, 7, 2]\n",
        "myvar = pd.Series(a)\n",
        "print(a)\n",
        "print(myvar)\n",
        "print(myvar.describe())\n",
        "print(myvar.head())\n",
        "print(myvar.info())\n",
        "data = {\"calories\": [420, 380, 390],\"duration\": [50, 40, 45]}\n",
        "#load data into a DataFrame object:\n",
        "df = pd.DataFrame(data)\n",
        "print(data)\n",
        "print(df)\n",
        "print(df.describe())\n",
        "print(df.head())\n",
        "print(df.info())\n",
        "print(df.median())"
      ]
    }
  ]
}